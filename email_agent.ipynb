{
 "cells": [
  {
   "cell_type": "code",
   "execution_count": 23,
   "id": "710e8dcb",
   "metadata": {},
   "outputs": [
    {
     "data": {
      "text/plain": [
       "True"
      ]
     },
     "execution_count": 23,
     "metadata": {},
     "output_type": "execute_result"
    }
   ],
   "source": [
    "from dotenv import load_dotenv\n",
    "load_dotenv()"
   ]
  },
  {
   "cell_type": "code",
   "execution_count": 24,
   "id": "fbfe964c",
   "metadata": {},
   "outputs": [
    {
     "data": {
      "text/plain": [
       "\"CrewAI is a framework for building autonomous agents that collaborate to achieve complex goals. Think of it as a way to orchestrate a team of AI agents, each with specific roles, responsibilities, and tools, to work together on a project.\\n\\nHere's a breakdown of what makes CrewAI significant:\\n\\n*   **Collaboration:** The core idea is that multiple AI agents, each with specialized skills, can work together more effectively than a single, monolithic AI. This mirrors how human teams operate.\\n*   **Autonomous Agents:** These are not just simple chatbots. They are designed to be proactive, make decisions, and execute tasks independently within their defined roles.\\n*   **Roles and Responsibilities:** Each agent in a CrewAI setup has a specific role (e.g., Researcher, Writer, Project Manager) and a set of responsibilities. This allows for specialization and efficient task allocation.\\n*   **Tools:** Agents can be equipped with various tools, such as search engines, APIs, databases, or even other AI models. This allows them to access information, perform actions, and interact with the real world.\\n*   **Task Management:** CrewAI provides mechanisms for defining tasks, assigning them to agents, and managing the workflow.\\n*   **Goal-Oriented:** The entire crew is focused on achieving a specific goal. The framework helps to break down the goal into smaller tasks and coordinate the agents to complete them.\\n*   **Flexibility:** It's designed to be adaptable to different types of projects and tasks. You can customize the roles, tools, and workflows to suit your specific needs.\\n\\n**Key Components:**\\n\\n*   **Agents:** The individual AI entities that perform tasks. They have roles, goals, tools, and memory.\\n*   **Tasks:** Specific actions that agents need to perform to contribute to the overall goal.\\n*   **Crew:** The collection of agents working together.\\n*   **Tools:** External resources or functionalities that agents can use.\\n\\n**Benefits of using CrewAI:**\\n\\n*   **Increased Efficiency:** By dividing tasks among specialized agents, you can often achieve faster and more efficient results.\\n*   **Improved Accuracy:** Agents can leverage their specific expertise and tools to perform tasks more accurately.\\n*   **Complex Problem Solving:** CrewAI enables you to tackle complex problems that would be difficult or impossible for a single AI agent to solve.\\n*   **Automation:** Automate complex workflows and processes that would otherwise require significant human effort.\\n*   **Scalability:** Easily scale your AI workforce by adding or modifying agents as needed.\\n\\n**Example Use Cases:**\\n\\n*   **Content Creation:** A crew could consist of a researcher, a writer, and an editor to create high-quality articles or blog posts.\\n*   **Market Research:** A crew could gather data, analyze trends, and generate reports on specific markets.\\n*   **Software Development:** A crew could design, code, test, and deploy software applications.\\n*   **Customer Support:** A crew could handle customer inquiries, troubleshoot issues, and provide solutions.\\n*   **Financial Analysis:** A crew could analyze financial data, identify investment opportunities, and generate reports.\\n\\n**In essence, CrewAI is a powerful framework for building intelligent, collaborative AI systems that can automate complex tasks and solve challenging problems.** It's a step towards creating more sophisticated and capable AI solutions that can work together like a human team.\\n\""
      ]
     },
     "execution_count": 24,
     "metadata": {},
     "output_type": "execute_result"
    }
   ],
   "source": [
    "from crewai import LLM\n",
    "\n",
    "llm = LLM(\n",
    "    model=\"gemini/gemini-2.0-flash\",\n",
    "    temperature=0.1\n",
    ")\n",
    "\n",
    "llm.call(\"what is crewai?\")"
   ]
  },
  {
   "cell_type": "code",
   "execution_count": 26,
   "id": "ffd225b8",
   "metadata": {},
   "outputs": [],
   "source": [
    "import os\n",
    "os.environ[\"CREWAI_DISABLE_TRACE_PROMPT\"] = \"true\""
   ]
  },
  {
   "cell_type": "code",
   "execution_count": 27,
   "id": "134eece6",
   "metadata": {},
   "outputs": [
    {
     "name": "stdout",
     "output_type": "stream",
     "text": [
      "\u001b[35m┌─\u001b[0m\u001b[35m────────────────────────────\u001b[0m\u001b[35m 🤖 Agent Started \u001b[0m\u001b[35m─────────────────────────────\u001b[0m\u001b[35m─┐\u001b[0m\n",
      "\u001b[35m│\u001b[0m                                                                             \u001b[35m│\u001b[0m\n",
      "\u001b[35m│\u001b[0m  \u001b[37mAgent: \u001b[0m\u001b[1;92mEmail Assistant Agent\u001b[0m                                               \u001b[35m│\u001b[0m\n",
      "\u001b[35m│\u001b[0m                                                                             \u001b[35m│\u001b[0m\n",
      "\u001b[35m│\u001b[0m  \u001b[37mTask: \u001b[0m\u001b[92mTake the following rough email and rewrite it into a professional \u001b[0m   \u001b[35m│\u001b[0m\n",
      "\u001b[35m│\u001b[0m  \u001b[92mand polished version.\u001b[0m                                                      \u001b[35m│\u001b[0m\n",
      "\u001b[35m│\u001b[0m  \u001b[92m    Expand abbreviations:\u001b[0m                                                  \u001b[35m│\u001b[0m\n",
      "\u001b[35m│\u001b[0m  \u001b[92m    '''\u001b[0m                                                                    \u001b[35m│\u001b[0m\n",
      "\u001b[35m│\u001b[0m  \u001b[92mhey team, just wanted to tell u that the demo is kind of ready, but \u001b[0m       \u001b[35m│\u001b[0m\n",
      "\u001b[35m│\u001b[0m  \u001b[92mthere's still stuff left.\u001b[0m                                                  \u001b[35m│\u001b[0m\n",
      "\u001b[35m│\u001b[0m  \u001b[92mMaybe we can show what we have and say rest is WIP.\u001b[0m                        \u001b[35m│\u001b[0m\n",
      "\u001b[35m│\u001b[0m  \u001b[92mLet me know what u think. thanks\u001b[0m                                           \u001b[35m│\u001b[0m\n",
      "\u001b[35m│\u001b[0m  \u001b[92m'''\u001b[0m                                                                        \u001b[35m│\u001b[0m\n",
      "\u001b[35m│\u001b[0m                                                                             \u001b[35m│\u001b[0m\n",
      "\u001b[35m└─────────────────────────────────────────────────────────────────────────────┘\u001b[0m\n",
      "\n"
     ]
    },
    {
     "name": "stdout",
     "output_type": "stream",
     "text": [
      "\u001b[32m┌─\u001b[0m\u001b[32m──────────────────────────\u001b[0m\u001b[32m ✅ Agent Final Answer \u001b[0m\u001b[32m──────────────────────────\u001b[0m\u001b[32m─┐\u001b[0m\n",
      "\u001b[32m│\u001b[0m                                                                             \u001b[32m│\u001b[0m\n",
      "\u001b[32m│\u001b[0m  \u001b[37mAgent: \u001b[0m\u001b[1;92mEmail Assistant Agent\u001b[0m                                               \u001b[32m│\u001b[0m\n",
      "\u001b[32m│\u001b[0m                                                                             \u001b[32m│\u001b[0m\n",
      "\u001b[32m│\u001b[0m  \u001b[37mFinal Answer:\u001b[0m                                                              \u001b[32m│\u001b[0m\n",
      "\u001b[32m│\u001b[0m  \u001b[92m```\u001b[0m                                                                        \u001b[32m│\u001b[0m\n",
      "\u001b[32m│\u001b[0m  \u001b[92mSubject: Demo Readiness and Next Steps\u001b[0m                                     \u001b[32m│\u001b[0m\n",
      "\u001b[32m│\u001b[0m                                                                             \u001b[32m│\u001b[0m\n",
      "\u001b[32m│\u001b[0m  \u001b[92mHi Team,\u001b[0m                                                                   \u001b[32m│\u001b[0m\n",
      "\u001b[32m│\u001b[0m                                                                             \u001b[32m│\u001b[0m\n",
      "\u001b[32m│\u001b[0m  \u001b[92mI wanted to provide an update on the demo. It is nearing completion, \u001b[0m      \u001b[32m│\u001b[0m\n",
      "\u001b[32m│\u001b[0m  \u001b[92malthough some elements are still in progress.\u001b[0m                              \u001b[32m│\u001b[0m\n",
      "\u001b[32m│\u001b[0m                                                                             \u001b[32m│\u001b[0m\n",
      "\u001b[32m│\u001b[0m  \u001b[92mI propose that we present the current version of the demo, clearly \u001b[0m        \u001b[32m│\u001b[0m\n",
      "\u001b[32m│\u001b[0m  \u001b[92mindicating that the remaining features are work-in-progress (WIP).\u001b[0m         \u001b[32m│\u001b[0m\n",
      "\u001b[32m│\u001b[0m                                                                             \u001b[32m│\u001b[0m\n",
      "\u001b[32m│\u001b[0m  \u001b[92mPlease let me know your thoughts on this approach.\u001b[0m                         \u001b[32m│\u001b[0m\n",
      "\u001b[32m│\u001b[0m                                                                             \u001b[32m│\u001b[0m\n",
      "\u001b[32m│\u001b[0m  \u001b[92mThanks,\u001b[0m                                                                    \u001b[32m│\u001b[0m\n",
      "\u001b[32m│\u001b[0m                                                                             \u001b[32m│\u001b[0m\n",
      "\u001b[32m│\u001b[0m  \u001b[92m[Your Name]\u001b[0m                                                                \u001b[32m│\u001b[0m\n",
      "\u001b[32m│\u001b[0m  \u001b[92m```\u001b[0m                                                                        \u001b[32m│\u001b[0m\n",
      "\u001b[32m│\u001b[0m                                                                             \u001b[32m│\u001b[0m\n",
      "\u001b[32m└─────────────────────────────────────────────────────────────────────────────┘\u001b[0m\n",
      "\n",
      "```\n",
      "Subject: Demo Readiness and Next Steps\n",
      "\n",
      "Hi Team,\n",
      "\n",
      "I wanted to provide an update on the demo. It is nearing completion, although some elements are still in progress.\n",
      "\n",
      "I propose that we present the current version of the demo, clearly indicating that the remaining features are work-in-progress (WIP).\n",
      "\n",
      "Please let me know your thoughts on this approach.\n",
      "\n",
      "Thanks,\n",
      "\n",
      "[Your Name]\n",
      "```\n"
     ]
    },
    {
     "data": {
      "text/html": [
       "<pre style=\"white-space:pre;overflow-x:auto;line-height:normal;font-family:Menlo,'DejaVu Sans Mono',consolas,'Courier New',monospace\">\n",
       "\n",
       "</pre>\n"
      ],
      "text/plain": [
       "\n",
       "\n"
      ]
     },
     "metadata": {},
     "output_type": "display_data"
    },
    {
     "data": {
      "text/html": [
       "<pre style=\"white-space:pre;overflow-x:auto;line-height:normal;font-family:Menlo,'DejaVu Sans Mono',consolas,'Courier New',monospace\"><span style=\"color: #008080; text-decoration-color: #008080\">╭─────────────────────────────────────────────── </span><span style=\"color: #008080; text-decoration-color: #008080; font-weight: bold\">Execution Traces</span><span style=\"color: #008080; text-decoration-color: #008080\"> ────────────────────────────────────────────────╮</span>\n",
       "<span style=\"color: #008080; text-decoration-color: #008080\">│</span>                                                                                                                 <span style=\"color: #008080; text-decoration-color: #008080\">│</span>\n",
       "<span style=\"color: #008080; text-decoration-color: #008080\">│</span>  <span style=\"color: #008080; text-decoration-color: #008080; font-weight: bold\">🔍 Detailed execution traces are available!</span>                                                                    <span style=\"color: #008080; text-decoration-color: #008080\">│</span>\n",
       "<span style=\"color: #008080; text-decoration-color: #008080\">│</span>                                                                                                                 <span style=\"color: #008080; text-decoration-color: #008080\">│</span>\n",
       "<span style=\"color: #008080; text-decoration-color: #008080\">│</span>  <span style=\"color: #c0c0c0; text-decoration-color: #c0c0c0\">View insights including:</span>                                                                                       <span style=\"color: #008080; text-decoration-color: #008080\">│</span>\n",
       "<span style=\"color: #008080; text-decoration-color: #008080\">│</span>  <span style=\"color: #0000ff; text-decoration-color: #0000ff\">  • Agent decision-making process</span>                                                                              <span style=\"color: #008080; text-decoration-color: #008080\">│</span>\n",
       "<span style=\"color: #008080; text-decoration-color: #008080\">│</span>  <span style=\"color: #0000ff; text-decoration-color: #0000ff\">  • Task execution flow and timing</span>                                                                             <span style=\"color: #008080; text-decoration-color: #008080\">│</span>\n",
       "<span style=\"color: #008080; text-decoration-color: #008080\">│</span>  <span style=\"color: #0000ff; text-decoration-color: #0000ff\">  • Tool usage details</span>                                                                                         <span style=\"color: #008080; text-decoration-color: #008080\">│</span>\n",
       "<span style=\"color: #008080; text-decoration-color: #008080\">│</span>                                                                                                                 <span style=\"color: #008080; text-decoration-color: #008080\">│</span>\n",
       "<span style=\"color: #008080; text-decoration-color: #008080\">╰─────────────────────────────────────────────────────────────────────────────────────────────────────────────────╯</span>\n",
       "</pre>\n"
      ],
      "text/plain": [
       "\u001b[36m╭─\u001b[0m\u001b[36m──────────────────────────────────────────────\u001b[0m\u001b[36m \u001b[0m\u001b[1;36mExecution Traces\u001b[0m\u001b[36m \u001b[0m\u001b[36m───────────────────────────────────────────────\u001b[0m\u001b[36m─╮\u001b[0m\n",
       "\u001b[36m│\u001b[0m                                                                                                                 \u001b[36m│\u001b[0m\n",
       "\u001b[36m│\u001b[0m  \u001b[1;36m🔍 \u001b[0m\u001b[1;36mDetailed execution traces are available!\u001b[0m                                                                    \u001b[36m│\u001b[0m\n",
       "\u001b[36m│\u001b[0m                                                                                                                 \u001b[36m│\u001b[0m\n",
       "\u001b[36m│\u001b[0m  \u001b[37mView insights including:\u001b[0m                                                                                       \u001b[36m│\u001b[0m\n",
       "\u001b[36m│\u001b[0m  \u001b[94m  • Agent decision-making process\u001b[0m                                                                              \u001b[36m│\u001b[0m\n",
       "\u001b[36m│\u001b[0m  \u001b[94m  • Task execution flow and timing\u001b[0m                                                                             \u001b[36m│\u001b[0m\n",
       "\u001b[36m│\u001b[0m  \u001b[94m  • Tool usage details\u001b[0m                                                                                         \u001b[36m│\u001b[0m\n",
       "\u001b[36m│\u001b[0m                                                                                                                 \u001b[36m│\u001b[0m\n",
       "\u001b[36m╰─────────────────────────────────────────────────────────────────────────────────────────────────────────────────╯\u001b[0m\n"
      ]
     },
     "metadata": {},
     "output_type": "display_data"
    },
    {
     "name": "stdout",
     "output_type": "stream",
     "text": [
      "Would you like to view your execution traces? [y/N] (20s timeout): "
     ]
    }
   ],
   "source": [
    "\n",
    "\n",
    "from crewai import Agent, Task, Crew\n",
    "\n",
    "email_assistant = Agent(\n",
    "    role=\"Email Assistant Agent\",\n",
    "    goal=\"Improve emails and make them sound professional and clear\",\n",
    "    backstory=\"A highly experienced communication expert skilled in professional email writing\",\n",
    "    verbose=True,\n",
    "    llm=llm\n",
    ")\n",
    "\n",
    "original_email = \"\"\"\n",
    "hey team, just wanted to tell u that the demo is kind of ready, but there's still stuff left.\n",
    "Maybe we can show what we have and say rest is WIP.\n",
    "Let me know what u think. thanks\n",
    "\"\"\"\n",
    "\n",
    "email_task = Task(\n",
    "    description=f\"\"\"Take the following rough email and rewrite it into a professional and polished version.\n",
    "    Expand abbreviations:\n",
    "    '''{original_email}'''\"\"\",\n",
    "    agent=email_assistant,\n",
    "    expected_output=\"A professional written email with proper formatting and content.\",\n",
    ")\n",
    "\n",
    "crew = Crew(\n",
    "    agents=[email_assistant],\n",
    "    tasks=[email_task],\n",
    "    verbose=False\n",
    ")\n",
    "\n",
    "result = crew.kickoff()\n",
    "print(result)\n"
   ]
  },
  {
   "cell_type": "code",
   "execution_count": null,
   "id": "2ccf8db2",
   "metadata": {},
   "outputs": [],
   "source": []
  }
 ],
 "metadata": {
  "kernelspec": {
   "display_name": "agenticai-playground",
   "language": "python",
   "name": "python3"
  },
  "language_info": {
   "codemirror_mode": {
    "name": "ipython",
    "version": 3
   },
   "file_extension": ".py",
   "mimetype": "text/x-python",
   "name": "python",
   "nbconvert_exporter": "python",
   "pygments_lexer": "ipython3",
   "version": "3.13.9"
  }
 },
 "nbformat": 4,
 "nbformat_minor": 5
}
